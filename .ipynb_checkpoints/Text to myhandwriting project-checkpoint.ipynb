{
 "cells": [
  {
   "cell_type": "code",
   "execution_count": 1,
   "id": "c134324d",
   "metadata": {},
   "outputs": [
    {
     "name": "stdout",
     "output_type": "stream",
     "text": [
      "123\n"
     ]
    }
   ],
   "source": [
    "print(123)"
   ]
  },
  {
   "cell_type": "code",
   "execution_count": 118,
   "id": "8c4c704f",
   "metadata": {},
   "outputs": [
    {
     "name": "stdout",
     "output_type": "stream",
     "text": [
      "HI HELLO this is opencv project of noorullah\n"
     ]
    }
   ],
   "source": [
    "from PIL import Image\n",
    "\n",
    "s=input()\n",
    "paper=Image.open('Dataset_handwritten/paper.jpeg')\n",
    "#rint(paper.width,paper.height)\n",
    "width=paper.width-30\n",
    "fw=0\n",
    "fh=0\n",
    "for i in s:\n",
    "    if i==' ':\n",
    "        #img=Image.open('handwriting/n.jpeg')\n",
    "        fw=fw+30\n",
    "    else:\n",
    "        if i.isupper():\n",
    "            img=Image.open('Dataset_handwritten/{}.jpeg'.format(i))\n",
    "            #w=img.width+fw\n",
    "            if width<fw:\n",
    "                fw=0\n",
    "                fh=fh+100\n",
    "                paper.paste(img,(fw,fh))\n",
    "            else:\n",
    "                paper.paste(img, (fw,fh))\n",
    "            fw=img.width+fw\n",
    "        elif i.islower():\n",
    "            img=Image.open('Dataset_handwritten/{}1.jpeg'.format(i.upper()))\n",
    "            #w=img.width+fw\n",
    "            if width<fw:\n",
    "                fw=0\n",
    "                fh=fh+100\n",
    "                paper.paste(img,(fw,fh))\n",
    "            else:\n",
    "                paper.paste(img, (fw,fh))\n",
    "            fw=img.width+fw\n",
    "        elif i.isdigit():\n",
    "            img=Image.open('Dataset_handwritten/{}.jpeg'.format(i))\n",
    "            #w=img.width+fw\n",
    "            if width<fw:\n",
    "                fw=0\n",
    "                fh=fh+100\n",
    "                paper.paste(img,(fw,fh))\n",
    "            else:\n",
    "                paper.paste(img, (fw,fh))\n",
    "            fw=img.width+fw\n",
    "        else:\n",
    "            img=Image.open('Dataset_handwritten/{}.jpeg'.format(i))\n",
    "            #w=img.width+fw\n",
    "            if width<fw:\n",
    "                fw=0\n",
    "                fh=fh+100\n",
    "                paper.paste(img,(fw,fh))\n",
    "            else:\n",
    "                paper.paste(img, (fw,fh))\n",
    "            fw=img.width+fw\n",
    "            \n",
    "paper.show()"
   ]
  },
  {
   "cell_type": "code",
   "execution_count": 117,
   "id": "e81dc4b5",
   "metadata": {},
   "outputs": [
    {
     "name": "stdout",
     "output_type": "stream",
     "text": [
      "[[248 250 247 ... 249 246 244]\n",
      " [250 251 246 ... 249 247 246]\n",
      " [250 251 246 ... 247 246 247]\n",
      " ...\n",
      " [249 249 250 ... 131 212 247]\n",
      " [249 249 249 ... 195 244 255]\n",
      " [251 251 251 ... 246 255 251]]\n",
      "\n",
      "\n",
      "\n",
      "\n",
      "\n",
      "[[240 240 240 ... 240 240 240]\n",
      " [240 240 240 ... 240 240 240]\n",
      " [240 240 240 ... 240 240 240]\n",
      " ...\n",
      " [240 240 240 ...  40 240 240]\n",
      " [240 240 240 ... 240 240 240]\n",
      " [240 240 240 ... 240 240 240]]\n"
     ]
    },
    {
     "data": {
      "text/plain": [
       "-1"
      ]
     },
     "execution_count": 117,
     "metadata": {},
     "output_type": "execute_result"
    }
   ],
   "source": [
    "import cv2 \n",
    "import numpy as np \n",
    "from PIL import Image\n",
    "im=cv2.imread('Orginal_handwritten/J1.jpg') \n",
    "img=np.copy(im)\n",
    "greyimg=cv2.cvtColor(img,cv2.COLOR_BGR2GRAY)\n",
    "print(np.asarray(greyimg))\n",
    "cv2.imshow('image',greyimg)\n",
    "cv2.waitKey(0)\n",
    "for i in range(len(greyimg)):\n",
    "    for j in range(len(greyimg[i])):\n",
    "        #greyimg[i][j]=240\n",
    "        if greyimg[i][j]<180:\n",
    "            greyimg[i][j]=40\n",
    "        else:\n",
    "            greyimg[i][j]=240\n",
    "print(\"\\n\\n\\n\\n\")\n",
    "print(np.asarray(greyimg))\n",
    "cv2.imshow('image',greyimg)\n",
    "cv2.imwrite('Dataset_handwritten/J1.jpeg',greyimg)\n",
    "cv2.waitKey(0)\n"
   ]
  },
  {
   "cell_type": "code",
   "execution_count": null,
   "id": "2612464e",
   "metadata": {},
   "outputs": [],
   "source": []
  },
  {
   "cell_type": "code",
   "execution_count": null,
   "id": "3e9870e6",
   "metadata": {},
   "outputs": [],
   "source": []
  }
 ],
 "metadata": {
  "kernelspec": {
   "display_name": "Python 3 (ipykernel)",
   "language": "python",
   "name": "python3"
  },
  "language_info": {
   "codemirror_mode": {
    "name": "ipython",
    "version": 3
   },
   "file_extension": ".py",
   "mimetype": "text/x-python",
   "name": "python",
   "nbconvert_exporter": "python",
   "pygments_lexer": "ipython3",
   "version": "3.9.7"
  }
 },
 "nbformat": 4,
 "nbformat_minor": 5
}
